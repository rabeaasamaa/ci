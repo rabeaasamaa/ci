{
  "nbformat": 4,
  "nbformat_minor": 0,
  "metadata": {
    "colab": {
      "provenance": [],
      "include_colab_link": true
    },
    "kernelspec": {
      "name": "python3",
      "display_name": "Python 3"
    },
    "language_info": {
      "name": "python"
    }
  },
  "cells": [
    {
      "cell_type": "markdown",
      "metadata": {
        "id": "view-in-github",
        "colab_type": "text"
      },
      "source": [
        "<a href=\"https://colab.research.google.com/github/rabeaasamaa/ci/blob/main/mcq_model.ipynb\" target=\"_parent\"><img src=\"https://colab.research.google.com/assets/colab-badge.svg\" alt=\"Open In Colab\"/></a>"
      ]
    },
    {
      "cell_type": "code",
      "source": [],
      "metadata": {
        "id": "7eAXkOGzxglM"
      },
      "execution_count": null,
      "outputs": []
    },
    {
      "cell_type": "code",
      "source": [
        "from datasets import load_dataset\n",
        "import random\n",
        "\n",
        "# 1. تحميل الجزء الخاص بـ Machine Learning من داتا سِت MMLU (test split)\n",
        "dataset = load_dataset(\"cais/mmlu\", \"machine_learning\", split=\"test\")  # :contentReference[oaicite:0]{index=0}\n",
        "\n",
        "# 2. نحول الـ Dataset لقائمة عادية ونسحب منها 10 أسئلة عشوائيًا بدون تكرار\n",
        "all_questions = list(dataset)\n",
        "num_questions = 10\n",
        "quiz_questions = random.sample(all_questions, num_questions)\n",
        "\n",
        "# 3. تشغيل الاختبار\n",
        "correct_answers = 0\n",
        "\n",
        "for idx, sample in enumerate(quiz_questions, 1):\n",
        "    question = sample[\"question\"]\n",
        "    choices = sample[\"choices\"]    # قائمة بأربعة نصوص\n",
        "    answer_key = sample[\"answer\"]  # حرف مثل 'A', 'B', 'C' أو 'D'\n",
        "\n",
        "    # عرض السؤال\n",
        "    print(f\"\\nQuestion {idx}: {question}\")\n",
        "    print(\"Choices:\")\n",
        "    for i, choice_text in enumerate(choices):\n",
        "        print(f\"{chr(65+i)}. {choice_text}\")  # A. الخيار الأول ...\n",
        "\n",
        "    # استلام إجابة المستخدم\n",
        "    user_ans = input(\"Enter your answer (A/B/C/D): \").strip().upper()\n",
        "\n",
        "    # التحقق\n",
        "    if user_ans == answer_key:\n",
        "        print(\"✅ Correct!\")\n",
        "        correct_answers += 1\n",
        "    else:\n",
        "        print(f\"❌ Incorrect. Correct answer was: {answer_key}\")\n",
        "\n",
        "# 4. عرض النتيجة النهائية\n",
        "print(f\"\\nYour final score: {correct_answers} out of {num_questions}\")\n"
      ],
      "metadata": {
        "colab": {
          "base_uri": "https://localhost:8080/",
          "height": 383
        },
        "id": "9LBKOxIubf2h",
        "outputId": "4a459a3e-0acd-494b-e43c-64418735c11b"
      },
      "execution_count": 1,
      "outputs": [
        {
          "output_type": "error",
          "ename": "ModuleNotFoundError",
          "evalue": "No module named 'datasets'",
          "traceback": [
            "\u001b[0;31m---------------------------------------------------------------------------\u001b[0m",
            "\u001b[0;31mModuleNotFoundError\u001b[0m                       Traceback (most recent call last)",
            "\u001b[0;32m<ipython-input-1-4c12272fe6dd>\u001b[0m in \u001b[0;36m<cell line: 0>\u001b[0;34m()\u001b[0m\n\u001b[0;32m----> 1\u001b[0;31m \u001b[0;32mfrom\u001b[0m \u001b[0mdatasets\u001b[0m \u001b[0;32mimport\u001b[0m \u001b[0mload_dataset\u001b[0m\u001b[0;34m\u001b[0m\u001b[0;34m\u001b[0m\u001b[0m\n\u001b[0m\u001b[1;32m      2\u001b[0m \u001b[0;32mimport\u001b[0m \u001b[0mrandom\u001b[0m\u001b[0;34m\u001b[0m\u001b[0;34m\u001b[0m\u001b[0m\n\u001b[1;32m      3\u001b[0m \u001b[0;34m\u001b[0m\u001b[0m\n\u001b[1;32m      4\u001b[0m \u001b[0;31m# 1. تحميل الجزء الخاص بـ Machine Learning من داتا سِت MMLU (test split)\u001b[0m\u001b[0;34m\u001b[0m\u001b[0;34m\u001b[0m\u001b[0m\n\u001b[1;32m      5\u001b[0m \u001b[0mdataset\u001b[0m \u001b[0;34m=\u001b[0m \u001b[0mload_dataset\u001b[0m\u001b[0;34m(\u001b[0m\u001b[0;34m\"cais/mmlu\"\u001b[0m\u001b[0;34m,\u001b[0m \u001b[0;34m\"machine_learning\"\u001b[0m\u001b[0;34m,\u001b[0m \u001b[0msplit\u001b[0m\u001b[0;34m=\u001b[0m\u001b[0;34m\"test\"\u001b[0m\u001b[0;34m)\u001b[0m  \u001b[0;31m# :contentReference[oaicite:0]{index=0}\u001b[0m\u001b[0;34m\u001b[0m\u001b[0;34m\u001b[0m\u001b[0m\n",
            "\u001b[0;31mModuleNotFoundError\u001b[0m: No module named 'datasets'",
            "",
            "\u001b[0;31m---------------------------------------------------------------------------\u001b[0;32m\nNOTE: If your import is failing due to a missing package, you can\nmanually install dependencies using either !pip or !apt.\n\nTo view examples of installing some common dependencies, click the\n\"Open Examples\" button below.\n\u001b[0;31m---------------------------------------------------------------------------\u001b[0m\n"
          ],
          "errorDetails": {
            "actions": [
              {
                "action": "open_url",
                "actionText": "Open Examples",
                "url": "/notebooks/snippets/importing_libraries.ipynb"
              }
            ]
          }
        }
      ]
    }
  ]
}